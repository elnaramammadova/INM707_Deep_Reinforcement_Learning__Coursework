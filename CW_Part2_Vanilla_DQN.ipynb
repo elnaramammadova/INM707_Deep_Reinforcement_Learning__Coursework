{
 "cells": [
  {
   "cell_type": "markdown",
   "metadata": {
    "id": "8_c64EMtnuF2"
   },
   "source": [
    "# Coursework Part 2 - Vanilla DQN"
   ]
  },
  {
   "cell_type": "markdown",
   "metadata": {
    "id": "Ls9D5yNZLWqy"
   },
   "source": [
    "Deep Q-networks are  neural networks implemented on the existing Q-learning architecture. Their utility becomes evident when working with complex environments including infinitely large state spaces, continuous spaces, etc. The code hereafter will explicitly outline the steps required to build a vanilla Q-network, with a brief look at performance with pre-selected hyperparameters. \n",
    "\n",
    "The environment of choice for this network is the Cartpole (v-1) task obtained from the Open AI gym. The task involves the agent balancing a pole on a cart moving along a frictionless surface. The states correspond to the following parameters: \n",
    "\n",
    "\n",
    "1.   Cart Position\n",
    "2.   Cart Velocity\n",
    "3.   Pole Angle\n",
    "4.   Velocity at the tip of the pole\n",
    "\n",
    "The actions available for the agent include the application of a +1 or -1 force on the cart - to move it in the right and left directions respectively. \n",
    "\n",
    "A reward of +1 is awarded to the agent for every time step that it can keep the pole balanced.\n",
    "\n",
    "An episode terminates when the pole's angle is greater than 15 degrees from the vertical, or if the cart's distance from the center exceeds 2.4 units. In this case, the agent will receive a reward of 0.\n",
    "\n"
   ]
  },
  {
   "cell_type": "code",
   "execution_count": null,
   "metadata": {
    "colab": {
     "base_uri": "https://localhost:8080/"
    },
    "id": "GXUI1wlXoCfn",
    "outputId": "58589ba2-06f1-49d0-b6f2-b46572159b54"
   },
   "outputs": [
    {
     "name": "stdout",
     "output_type": "stream",
     "text": [
      "Mounted at /content/drive\n"
     ]
    }
   ],
   "source": [
    "# Load Drive and mount\n",
    "from google.colab import drive\n",
    "\n",
    "# This will prompt for authorization.\n",
    "drive.mount('/content/drive')"
   ]
  },
  {
   "cell_type": "code",
   "execution_count": null,
   "metadata": {
    "id": "mKjcaGAAoQ2R"
   },
   "outputs": [],
   "source": [
    "# Import libraries\n",
    "import gym\n",
    "import numpy as np\n",
    "import torch.nn as nn\n",
    "import torch.optim as optim\n",
    "import torch \n",
    "import random\n",
    "import matplotlib.pyplot as plt"
   ]
  },
  {
   "cell_type": "markdown",
   "metadata": {
    "id": "jF6UYp05od9L"
   },
   "source": [
    "## Setting up Neural Network "
   ]
  },
  {
   "cell_type": "markdown",
   "metadata": {
    "id": "lWQZbRfiOh4t"
   },
   "source": [
    "The network architecture selected for the Q-network is as follows:\n",
    "\n",
    "*   Input Layer: 4 nodes - corresponding to state dimensionality \n",
    "*   Hidden Layers: 2 layers consisting of 8 nodes\n",
    "*   Output: 2 nodes - corresponding to the actions available at each state\n",
    "\n",
    "\n",
    "\n",
    "\n"
   ]
  },
  {
   "cell_type": "code",
   "execution_count": null,
   "metadata": {
    "id": "LW-ydedSokyt"
   },
   "outputs": [],
   "source": [
    "# creating network architecture\n",
    "device = torch.device('cuda:0' if torch.cuda.is_available() else 'cpu')\n",
    "class DQN(nn.Module):\n",
    "\n",
    "  def __init__(self, lr, input_dims, hidden_dims, output_dims):\n",
    "    super(DQN, self).__init__()\n",
    "    self.fc1 = nn.Linear(input_dims, hidden_dims)\n",
    "    self.fc2 = nn.Linear(hidden_dims, hidden_dims)\n",
    "    self.fc3 = nn.Linear(hidden_dims, output_dims)\n",
    "\n",
    "    self.optimizer = optim.SGD(self.parameters(), lr=lr)\n",
    "    self.criterion = nn.MSELoss()\n",
    "    self.activation = nn.ReLU()\n",
    "\n",
    "  def forward(self, x):\n",
    "    h1 = self.fc1(x)\n",
    "    h1_activated = self.activation(h1)\n",
    "    h2 = self.fc2(h1_activated)\n",
    "    h2_activated = self.activation(h2)\n",
    "    output = self.fc3(h2_activated)\n",
    "    return output"
   ]
  },
  {
   "cell_type": "markdown",
   "metadata": {
    "id": "qUwQhG3rqSsd"
   },
   "source": [
    "## Setting up Experience Replay"
   ]
  },
  {
   "cell_type": "markdown",
   "metadata": {
    "id": "8sjDb7nOPp2P"
   },
   "source": [
    "Experience replay involves storing transitions within an environment in a memory. Neural networks are generally constructed on independent and identically distributed data. Given the sequential nature of an agent's navigation through an environment, some tweaks will be required to ensure our i.i.d assumption holds. Whilst these changes may not guarantee the assumption completely, they offer a working solution. \n",
    "\n",
    "The process works by building a store of memory, consisting of an agent's transitions through an environment. A transition can be represented by the tuple (state, reward, action, next_state). Once a store of sufficient memories has been collected, the agent can randomly sample batches from this store to feed as input to the Q-network. This random/uniform sampling reduces the correlation between samples.\n",
    "\n",
    "The \"ReplayMemory\" class below is constructed based on the topics discussed above. It consists of a memory capacity (the size of its memory), and the memory store itself. The methods in this class include:\n",
    "\n",
    "\n",
    "\n",
    "*   store_transition: This method will store a transition into memory. It makes use of a private method named _convert_to_tensor which converts transitions into PyTorch tensors to facilitate compatability with the neural network architecture.\n",
    "*   sample_memory: This method will sample a batch of transitions from memory and return these batches in a format compatabile for input to the neural network.\n",
    "\n"
   ]
  },
  {
   "cell_type": "code",
   "execution_count": null,
   "metadata": {
    "id": "hk1rVyc7qRAX"
   },
   "outputs": [],
   "source": [
    "class ReplayMemory():\n",
    "  def __init__(self, memory_cap):\n",
    "    self.memory_capacity = memory_cap\n",
    "    self.memory = []\n",
    "    self.current_memory_pos = 0\n",
    "\n",
    "  def store_transition(self, state, action, reward, next_state):\n",
    "    if len(self.memory) < self.memory_capacity:\n",
    "      self.memory.append(None)\n",
    "\n",
    "    state_tensor, action_tensor, reward_tensor, next_state_tensor = self._convert_to_tensor(state, action, reward, next_state)\n",
    "    self.memory[self.current_memory_pos] = (state_tensor, action_tensor, reward_tensor, next_state_tensor)\n",
    "    self.current_memory_pos = (self.current_memory_pos + 1) % self.memory_capacity\n",
    "\n",
    "  def sample_memory(self, batch_size):\n",
    "    memory_batch = random.sample(self.memory, batch_size)\n",
    "    state_batch = []\n",
    "    action_batch = []\n",
    "    reward_batch = []\n",
    "    next_state_batch = []\n",
    "\n",
    "    for item in memory_batch:\n",
    "      state_batch.append(item[0])\n",
    "      action_batch.append(item[1])\n",
    "      reward_batch.append(item[2])\n",
    "      next_state_batch.append(item[3])\n",
    "    \n",
    "    state_batch_tensor = torch.cat(state_batch)\n",
    "    action_batch_tensor = torch.cat(action_batch)\n",
    "    reward_batch_tensor = torch.cat(reward_batch)\n",
    "    next_state_batch_tensor = torch.cat(next_state_batch)\n",
    "\n",
    "    return memory_batch, state_batch_tensor, action_batch_tensor, reward_batch_tensor, next_state_batch_tensor\n",
    "\n",
    "  def _convert_to_tensor(self, state, action, reward, next_state):\n",
    "    s = torch.tensor([state], dtype=torch.float, device=device)\n",
    "    a = torch.tensor([[action]], device=device)\n",
    "    r = torch.tensor([[reward]], device=device)\n",
    "    s_new = torch.tensor([next_state], dtype=torch.float, device=device)\n",
    "\n",
    "    return s,a,r,s_new"
   ]
  },
  {
   "cell_type": "markdown",
   "metadata": {
    "id": "F11T4sdEuOUq"
   },
   "source": [
    "## Setting up Agent"
   ]
  },
  {
   "cell_type": "markdown",
   "metadata": {
    "id": "R8NirzLCTjMt"
   },
   "source": [
    "The agent class below brings all the pieces together. It will be instantiated by creating an evaluation and target Q-network, as well as a memory using the classes defined above. The class architecture will also include methods to control our agent's actions and learning. All methods are shown below:\n",
    "\n",
    "*   Epsilon_greedy_action: Implement an Epsilon greedy policy that will drive an agent's selection of actions\n",
    "*   store_transition: Store a transition into memory using the ReplayMemory class explained above\n",
    "*   fill_memory: Fill agent's memory upto capacity\n",
    "*   sample_memory: Implement the sample_memory method from the ReplayMemory class\n",
    "*   reduce_epsilon: Reduce epsilon until it reaches a minimum values specified during class instantiation\n",
    "*   implement_learning: This method is where the majority of the agent's learning will take place. Batches will be drawn from memory and fed as input into the agent's Q-network defined during instantiation. It is important to note here that non-final states will not be considered for action selection - given that there are no actions available once the terminal state has been reached."
   ]
  },
  {
   "cell_type": "code",
   "execution_count": null,
   "metadata": {
    "id": "63M-8SkHuQ8o"
   },
   "outputs": [],
   "source": [
    "class Agent():\n",
    "  def __init__(self, lr, gamma, epsilon, input_dims, hidden_dims, output_dims, memory_capacity, batch_size, min_epsilon, decay):\n",
    "    self.lr = lr\n",
    "    self.gamma = gamma\n",
    "    self.epsilon = epsilon\n",
    "    self.input_dims = input_dims\n",
    "    self.hidden_dims = hidden_dims\n",
    "    self.output_dims = output_dims\n",
    "    self.memory_capacity = memory_capacity\n",
    "    self.batch_size = batch_size\n",
    "    self.min_epsilon = min_epsilon\n",
    "    self.decay = decay\n",
    "    self.action_space = [0, 1]\n",
    "\n",
    "    # Initialising memory\n",
    "    self.memory = ReplayMemory(self.memory_capacity)\n",
    "\n",
    "    # Initialising Q networks\n",
    "    self.Qnet = DQN(lr = self.lr, input_dims = self.input_dims, hidden_dims = self.hidden_dims, output_dims = self.output_dims).to(device)\n",
    "    self.Qtarget = DQN(lr = self.lr, input_dims = self.input_dims, hidden_dims = self.hidden_dims, output_dims = self.output_dims).to(device)\n",
    " \n",
    "  def Epsilon_greedy_action(self, obs):\n",
    "    if np.random.random() > self.epsilon:\n",
    "      with torch.no_grad():\n",
    "        self.Qnet.eval()  \n",
    "        state = torch.tensor(obs, dtype=torch.float, device=device)\n",
    "        a = self.Qnet.forward(state)\n",
    "        action = torch.argmax(a).item()\n",
    "        self.Qnet.train()\n",
    "    else:\n",
    "      action = np.random.choice(self.action_space)\n",
    "\n",
    "    return action\n",
    "\n",
    "  def store_transition(self, state, action, reward, nxt_state):\n",
    "    self.memory.store_transition(state, action, reward, nxt_state)\n",
    "\n",
    "  def fill_memory(self):\n",
    "    memory_full = False\n",
    "    _env = gym.make('CartPole-v1')\n",
    "    while memory_full == False:\n",
    "      obs = _env.reset()\n",
    "      done = False\n",
    "      while done == False:\n",
    "        action = self.Epsilon_greedy_action(obs)\n",
    "        nxt_obs, reward, done, info = _env.step(action) \n",
    "        if done:\n",
    "          nxt_obs = [-100,-100,-100,-100]\n",
    "        self.store_transition(obs, action, reward, nxt_obs)\n",
    "        obs = nxt_obs\n",
    "        if len(self.memory.memory) == self.memory_capacity:\n",
    "          memory_full = True\n",
    "    print(\"Memory filled\")\n",
    "\n",
    "  def sample_memory(self):\n",
    "    memory_batch, state_batch_tensor, action_batch_tensor, reward_batch_tensor, next_state_batch_tensor = self.memory.sample_memory(self.batch_size)\n",
    "    return state_batch_tensor, action_batch_tensor, reward_batch_tensor, next_state_batch_tensor\n",
    "\n",
    "  def reduce_epsilon(self):\n",
    "    if self.epsilon > self.min_epsilon:\n",
    "      self.epsilon = self.epsilon * self.decay\n",
    "    else:\n",
    "      self.epsilon = self.min_epsilon\n",
    "\n",
    "  def implement_learning(self):\n",
    "\n",
    "    state_batch, action_batch, reward_batch, next_state_batch = self.sample_memory()\n",
    "    non_final_state_b = torch.tensor(tuple(map(lambda s: s[0] != -100, next_state_batch)), device=device)\n",
    "    non_final_nxt_states = next_state_batch[non_final_state_b]\n",
    "    q_pred = self.Qnet.forward(state_batch).gather(1, action_batch)\n",
    "    q_next = torch.zeros(self.batch_size, device=device)\n",
    "    q_next[non_final_state_b] = self.Qtarget.forward(non_final_nxt_states).max(1)[0].detach()\n",
    "    q_next = q_next.unsqueeze(1)\n",
    "    q_target = (q_next * self.gamma) + reward_batch\n",
    "    self.Qnet.optimizer.zero_grad()\n",
    "    loss = self.Qnet.criterion(q_pred, q_target)\n",
    "    loss.backward()\n",
    "\n",
    "    for param in self.Qnet.parameters():\n",
    "      param.grad.data.clamp_(-1,1)\n",
    "\n",
    "    self.Qnet.optimizer.step()\n",
    "\n",
    "    return loss"
   ]
  },
  {
   "cell_type": "markdown",
   "metadata": {
    "id": "zrL97emI9PVW"
   },
   "source": [
    "## Basic Training"
   ]
  },
  {
   "cell_type": "markdown",
   "metadata": {
    "id": "WnKiFeaoV4Wn"
   },
   "source": [
    "The agent is now ready to begin learning. Given that the purpose of this section is to investigate the improvements to deep Q-networks, a very basic implementation will be performed below, using pre-defined hyperparameters. The results of this will be used to compare with the two improvements selected (Double DQN and Dueling DQN). Basic testing on the two improvements will also be implemented using the same pre-defined hyperparameters - with results being compared. Hyperparameter tuning will only be investigated on the improvements, which can be seen in their respective notebooks. \n",
    "\n",
    "The training begins instantiating the agent with the requisite hyperparameters. Its memory will first be filled and then interaction with the environment can begin. Results from these interactions will be stored as memories. After which, the implement_learning method in the agent class will be called - which will conduct training on the Q-networks created - with results being stored. \n",
    "\n",
    "Finally, the parameters target Q-network will be updated with the evaluation network's parameters every 20 time-steps."
   ]
  },
  {
   "cell_type": "code",
   "execution_count": null,
   "metadata": {
    "colab": {
     "base_uri": "https://localhost:8080/"
    },
    "id": "1f6nQZdo9YUF",
    "outputId": "29350641-a98d-4069-ea91-b78762037133"
   },
   "outputs": [
    {
     "name": "stderr",
     "output_type": "stream",
     "text": [
      "/usr/local/lib/python3.7/dist-packages/ipykernel_launcher.py:36: UserWarning: Creating a tensor from a list of numpy.ndarrays is extremely slow. Please consider converting the list to a single numpy.ndarray with numpy.array() before converting to a tensor. (Triggered internally at  ../torch/csrc/utils/tensor_new.cpp:201.)\n"
     ]
    },
    {
     "name": "stdout",
     "output_type": "stream",
     "text": [
      "Memory filled\n",
      "episode  0 avg score 16.0\n",
      "episode  100 avg score 22.3\n",
      "episode  200 avg score 20.2\n",
      "episode  300 avg score 22.4\n",
      "episode  400 avg score 21.3\n",
      "episode  500 avg score 21.1\n",
      "episode  600 avg score 23.4\n",
      "episode  700 avg score 24.6\n",
      "episode  800 avg score 24.9\n",
      "episode  900 avg score 28.0\n",
      "episode  1000 avg score 24.8\n",
      "episode  1100 avg score 26.8\n",
      "episode  1200 avg score 29.4\n",
      "episode  1300 avg score 31.5\n",
      "episode  1400 avg score 29.2\n",
      "episode  1500 avg score 28.8\n",
      "episode  1600 avg score 29.8\n",
      "episode  1700 avg score 31.6\n",
      "episode  1800 avg score 33.7\n",
      "episode  1900 avg score 32.0\n",
      "episode  2000 avg score 32.9\n",
      "episode  2100 avg score 35.3\n",
      "episode  2200 avg score 43.4\n",
      "episode  2300 avg score 40.1\n",
      "episode  2400 avg score 37.7\n",
      "episode  2500 avg score 38.7\n",
      "episode  2600 avg score 45.9\n",
      "episode  2700 avg score 44.6\n",
      "episode  2800 avg score 46.2\n",
      "episode  2900 avg score 43.1\n",
      "episode  3000 avg score 43.5\n",
      "episode  3100 avg score 51.7\n",
      "episode  3200 avg score 52.7\n",
      "episode  3300 avg score 45.1\n",
      "episode  3400 avg score 47.4\n",
      "episode  3500 avg score 49.5\n",
      "episode  3600 avg score 52.8\n",
      "episode  3700 avg score 54.9\n",
      "episode  3800 avg score 51.0\n",
      "episode  3900 avg score 64.4\n",
      "episode  4000 avg score 61.0\n",
      "episode  4100 avg score 62.9\n",
      "episode  4200 avg score 58.8\n",
      "episode  4300 avg score 67.0\n",
      "episode  4400 avg score 70.7\n",
      "episode  4500 avg score 72.4\n",
      "episode  4600 avg score 73.0\n",
      "episode  4700 avg score 77.5\n",
      "episode  4800 avg score 86.9\n",
      "episode  4900 avg score 80.4\n",
      "episode  5000 avg score 78.6\n",
      "episode  5100 avg score 91.7\n",
      "episode  5200 avg score 94.5\n",
      "episode  5300 avg score 83.9\n",
      "episode  5400 avg score 89.3\n",
      "episode  5500 avg score 87.8\n",
      "episode  5600 avg score 111.9\n",
      "episode  5700 avg score 91.2\n",
      "episode  5800 avg score 123.8\n",
      "episode  5900 avg score 104.9\n",
      "episode  6000 avg score 126.3\n",
      "episode  6100 avg score 125.2\n",
      "episode  6200 avg score 148.0\n",
      "episode  6300 avg score 138.4\n",
      "episode  6400 avg score 126.2\n",
      "episode  6500 avg score 128.6\n",
      "episode  6600 avg score 110.5\n",
      "episode  6700 avg score 119.1\n",
      "episode  6800 avg score 110.0\n",
      "episode  6900 avg score 130.0\n",
      "episode  7000 avg score 125.9\n",
      "episode  7100 avg score 118.1\n",
      "episode  7200 avg score 100.3\n",
      "episode  7300 avg score 92.5\n",
      "episode  7400 avg score 74.2\n",
      "episode  7500 avg score 107.7\n",
      "episode  7600 avg score 135.0\n",
      "episode  7700 avg score 127.2\n",
      "episode  7800 avg score 119.1\n",
      "episode  7900 avg score 123.4\n",
      "episode  8000 avg score 130.5\n",
      "episode  8100 avg score 126.2\n",
      "episode  8200 avg score 110.4\n",
      "episode  8300 avg score 135.0\n",
      "episode  8400 avg score 138.7\n",
      "episode  8500 avg score 105.7\n",
      "episode  8600 avg score 71.7\n",
      "episode  8700 avg score 71.9\n",
      "episode  8800 avg score 105.1\n",
      "episode  8900 avg score 97.5\n",
      "episode  9000 avg score 85.9\n",
      "episode  9100 avg score 37.9\n",
      "episode  9200 avg score 85.3\n",
      "episode  9300 avg score 139.1\n",
      "episode  9400 avg score 65.3\n",
      "episode  9500 avg score 74.9\n",
      "episode  9600 avg score 91.5\n",
      "episode  9700 avg score 61.0\n",
      "episode  9800 avg score 57.7\n",
      "episode  9900 avg score 59.6\n"
     ]
    }
   ],
   "source": [
    "num_episodes = 10000\n",
    "lr = 0.001\n",
    "gamma = 0.9\n",
    "eps = 1\n",
    "input_dims = 4\n",
    "hidden_dims = 8\n",
    "output_dims = 2\n",
    "mem_capacity = 20000\n",
    "batch_size = 200\n",
    "min_eps = 0.01\n",
    "decay = 0.9999\n",
    "\n",
    "\n",
    "agent = Agent(lr=lr, gamma=gamma, epsilon=eps, input_dims=input_dims, hidden_dims=hidden_dims, output_dims=output_dims, memory_capacity=mem_capacity, batch_size=batch_size,  min_epsilon=min_eps, decay=decay)\n",
    "agent.Qtarget.load_state_dict(agent.Qnet.state_dict())\n",
    "agent.Qtarget.eval()\n",
    "agent.fill_memory()\n",
    "env = gym.make('CartPole-v1')\n",
    "scores = list()\n",
    "for i in range(num_episodes):\n",
    "  obs = env.reset()\n",
    "  done = False\n",
    "  score = 0\n",
    "  while done == False:\n",
    "    # pick an action \n",
    "    action = agent.Epsilon_greedy_action(obs)\n",
    "    # interacting with environment\n",
    "    nxt_obs, reward, done, info = env.step(action) \n",
    "    if done:\n",
    "      nxt_obs = [-100,-100,-100,-100]\n",
    "    agent.store_transition(obs, action, reward, nxt_obs)\n",
    "    obs = nxt_obs\n",
    "    score += reward\n",
    "    l = agent.implement_learning()      \n",
    "  agent.reduce_epsilon()\n",
    "  scores.append(score)\n",
    "  if i%20 == 0:\n",
    "    agent.Qtarget.load_state_dict(agent.Qnet.state_dict())\n",
    "  if i % 100 == 0:\n",
    "    avg_score = np.mean(scores[-100:])\n",
    "    print('episode ', i, 'avg score %.1f' % (avg_score))"
   ]
  },
  {
   "cell_type": "code",
   "execution_count": null,
   "metadata": {
    "colab": {
     "base_uri": "https://localhost:8080/",
     "height": 281
    },
    "id": "EDOP3GogDo2E",
    "outputId": "3361b3a8-6926-4e9f-b65c-4d432d16ee70"
   },
   "outputs": [
    {
     "data": {
      "image/png": "[encoded data removed]",
      "text/plain": [
       "<Figure size 432x288 with 1 Axes>"
      ]
     },
     "metadata": {
      "needs_background": "light"
     },
     "output_type": "display_data"
    }
   ],
   "source": [
    "# plotting results\n",
    "x = [i for i in range(num_episodes)]\n",
    "N = len(scores)\n",
    "running_avg = np.empty(N)\n",
    "for t in range(N):\n",
    "  running_avg[t] = np.mean(scores[max(0, t-100):(t+1)])\n",
    "plt.plot(x, running_avg, label=\"Vanilla DQN\")\n",
    "plt.ylabel('Avg. Reward')\n",
    "plt.xlabel(\"Training Steps\")\n",
    "plt.legend(loc=\"upper left\")\n",
    "plt.savefig(\"NaiveDQNHyperparameter.png\")\n",
    "plt.show() "
   ]
  }
 ],
 "metadata": {
  "colab": {
   "collapsed_sections": [],
   "name": "CW_Part2_Vanilla_DQN.ipynb",
   "provenance": []
  },
  "kernelspec": {
   "display_name": "Python 3 (ipykernel)",
   "language": "python",
   "name": "python3"
  },
  "language_info": {
   "codemirror_mode": {
    "name": "ipython",
    "version": 3
   },
   "file_extension": ".py",
   "mimetype": "text/x-python",
   "name": "python",
   "nbconvert_exporter": "python",
   "pygments_lexer": "ipython3",
   "version": "3.8.12"
  }
 },
 "nbformat": 4,
 "nbformat_minor": 1
}
